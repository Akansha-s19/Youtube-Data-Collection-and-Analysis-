{
 "cells": [
  {
   "cell_type": "code",
   "execution_count": null,
   "id": "c3d444a8-b5af-487c-9e1a-2b18b62bca44",
   "metadata": {},
   "outputs": [],
   "source": [
    "!pip install google-api-python-client"
   ]
  },
  {
   "cell_type": "code",
   "execution_count": null,
   "id": "ef4aced4-b8c3-4844-a867-21d4b2d55ab0",
   "metadata": {},
   "outputs": [],
   "source": [
    "import pandas as pd\n",
    "from googleapiclient.discovery import build\n",
    "from googleapiclient.errors import HttpError\n",
    "\n",
    "# Replace with your own API key\n",
    "API_KEY = 'Your own API'\n",
    "\n",
    "def get_trending_videos(api_key, max_results=200):\n",
    "    try:\n",
    "        # Build the YouTube service\n",
    "        youtube = build('youtube', 'v3', developerKey=api_key)\n",
    "\n",
    "        # Initialize the list to hold video details\n",
    "        videos = []\n",
    "\n",
    "        # Fetch the most popular videos\n",
    "        request = youtube.videos().list(\n",
    "            part='snippet,contentDetails,statistics',\n",
    "            chart='mostPopular',\n",
    "            regionCode='IN',  \n",
    "            maxResults=50\n",
    "        )\n",
    "\n",
    "        # Paginate through the results if max_results > 50\n",
    "        while request and len(videos) < max_results:\n",
    "            response = request.execute()\n",
    "            for item in response['items']:\n",
    "                video_details = {\n",
    "                    'video_id': item['id'],\n",
    "                    'title': item['snippet']['title'],\n",
    "                    'description': item['snippet']['description'],\n",
    "                    'published_at': item['snippet']['publishedAt'],\n",
    "                    'channel_id': item['snippet']['channelId'],\n",
    "                    'channel_title': item['snippet']['channelTitle'],\n",
    "                    'category_id': item['snippet']['categoryId'],\n",
    "                    'tags': item['snippet'].get('tags', []),\n",
    "                    'duration': item['contentDetails']['duration'],\n",
    "                    'definition': item['contentDetails']['definition'],\n",
    "                    'caption': item['contentDetails'].get('caption', 'false'),\n",
    "                    'view_count': item['statistics'].get('viewCount', 0),\n",
    "                    'like_count': item['statistics'].get('likeCount', 0),\n",
    "                    'dislike_count': item['statistics'].get('dislikeCount', 0),\n",
    "                    'favorite_count': item['statistics'].get('favoriteCount', 0),\n",
    "                    'comment_count': item['statistics'].get('commentCount', 0)\n",
    "                }\n",
    "                videos.append(video_details)\n",
    "\n",
    "            # Get the next page token\n",
    "            request = youtube.videos().list_next(request, response)\n",
    "\n",
    "        return videos[:max_results]\n",
    "    \n",
    "    except HttpError as e:\n",
    "        print(f'An HTTP error {e.resp.status} occurred: {e.content}')\n",
    "        return []\n",
    "\n",
    "def save_to_csv(data, filename):\n",
    "    df = pd.DataFrame(data)\n",
    "    df.to_csv(filename, index=False)\n",
    "\n",
    "def main():\n",
    "    trending_videos = get_trending_videos(API_KEY)\n",
    "    if trending_videos:  # Check if any data was returned\n",
    "        filename = 'trending_videos.csv'\n",
    "        save_to_csv(trending_videos, filename)\n",
    "        print(f'Trending videos saved to {filename}')\n",
    "    else:\n",
    "        print('No data to save.')\n",
    "\n",
    "if __name__ == '__main__':\n",
    "    main()\n"
   ]
  },
  {
   "cell_type": "markdown",
   "id": "d00077e6-26bc-4ce7-86f9-b1a6715e1b50",
   "metadata": {},
   "source": [
    "In the above code, we are using the YouTube Data API to fetch details of the top 200 trending videos in the India, iterating \n",
    "through the API’s paginated responses to collect video details such as title, description, published date, channel \n",
    "information, tags, duration, definition, captions, and various engagement metrics like views, likes, and comments. The \n",
    "script compiles this information into a list, converts it into a pandas DataFrame, and saves the data to a CSV file named\n",
    "trending_videos.csv, allowing us to analyze trends and patterns in the collected video data."
   ]
  },
  {
   "cell_type": "code",
   "execution_count": null,
   "id": "aed41ad3-4075-4ea1-9297-d3f63b8510ed",
   "metadata": {},
   "outputs": [],
   "source": [
    "import pandas as pd\n",
    "\n",
    "trending_videos = pd.read_csv('trending_videos.csv')\n",
    "print(trending_videos.head())"
   ]
  },
  {
   "cell_type": "code",
   "execution_count": null,
   "id": "43c9d6a3-c60f-42bc-8cd9-a0058bb52e7a",
   "metadata": {},
   "outputs": [],
   "source": [
    "# check for missing values\n",
    "missing_values = trending_videos.isnull().sum()\n",
    "\n",
    "# display data types\n",
    "data_types = trending_videos.dtypes\n",
    "\n",
    "missing_values, data_types"
   ]
  },
  {
   "cell_type": "markdown",
   "id": "6b295c1a-8931-4f76-842b-7b01e90a0e33",
   "metadata": {},
   "source": [
    "The description column has 4 missing values. This is minor and can be handled as needed. The data types seem appropriate \n",
    "for most columns, but we may need to convert the published_at column to a datetime format and tags might need further \n",
    "processing. Let’s fix these changes:"
   ]
  },
  {
   "cell_type": "code",
   "execution_count": null,
   "id": "a6c6aea1-0f16-4b99-9964-095a69f6f41d",
   "metadata": {},
   "outputs": [],
   "source": [
    "# fill missing descriptions with \"No description\"\n",
    "trending_videos['description'].fillna('No description', inplace=True)\n",
    "\n",
    "# convert `published_at` to datetime\n",
    "trending_videos['published_at'] = pd.to_datetime(trending_videos['published_at'])\n",
    "\n",
    "# convert tags from string representation of list to actual list\n",
    "trending_videos['tags'] = trending_videos['tags'].apply(lambda x: eval(x) if isinstance(x, str) else x)"
   ]
  },
  {
   "cell_type": "code",
   "execution_count": null,
   "id": "5945d795-2423-45ef-a7e1-66c4b6ca1995",
   "metadata": {},
   "outputs": [],
   "source": [
    "# descriptive statistics\n",
    "descriptive_stats = trending_videos[['view_count', 'like_count', 'dislike_count', 'comment_count']].describe()\n",
    "\n",
    "descriptive_stats"
   ]
  },
  {
   "cell_type": "code",
   "execution_count": null,
   "id": "f99de73f-b3ec-4f81-8735-08ea9485ad56",
   "metadata": {},
   "outputs": [],
   "source": [
    "# Now, let’s have a look at the distribution of views, likes and comments of all the videos in the data:\n",
    "\n",
    "import matplotlib.pyplot as plt\n",
    "import seaborn as sns\n",
    "sns.set(style=\"whitegrid\")\n",
    "\n",
    "fig, axes = plt.subplots(1, 3, figsize=(18, 5))\n",
    "\n",
    "# view count distribution\n",
    "sns.histplot(trending_videos['view_count'], bins=30, kde=True, ax=axes[0], color='blue')\n",
    "axes[0].set_title('View Count Distribution')\n",
    "axes[0].set_xlabel('View Count')\n",
    "axes[0].set_ylabel('Frequency')\n",
    "\n",
    "# like count distribution\n",
    "sns.histplot(trending_videos['like_count'], bins=30, kde=True, ax=axes[1], color='green')\n",
    "axes[1].set_title('Like Count Distribution')\n",
    "axes[1].set_xlabel('Like Count')\n",
    "axes[1].set_ylabel('Frequency')\n",
    "\n",
    "# comment count distribution\n",
    "sns.histplot(trending_videos['comment_count'], bins=30, kde=True, ax=axes[2], color='red')\n",
    "axes[2].set_title('Comment Count Distribution')\n",
    "axes[2].set_xlabel('Comment Count')\n",
    "axes[2].set_ylabel('Frequency')\n",
    "\n",
    "plt.tight_layout()\n",
    "plt.show()"
   ]
  },
  {
   "cell_type": "markdown",
   "id": "83df0cf5-5ddc-47a6-83ab-ae6fb55f1716",
   "metadata": {},
   "source": [
    "The histograms show that the distributions of view counts, like counts, and comment counts are right-skewed, with most \n",
    "videos having lower counts and a few videos having very high counts. "
   ]
  },
  {
   "cell_type": "code",
   "execution_count": null,
   "id": "b84a4f3d-369f-4322-954e-52bf645b7121",
   "metadata": {},
   "outputs": [],
   "source": [
    "# Now, let’s have a look at the correlation between likes, views, and comments:\n",
    "# correlation matrix\n",
    "correlation_matrix = trending_videos[['view_count', 'like_count', 'comment_count']].corr()\n",
    "\n",
    "plt.figure(figsize=(8, 6))\n",
    "sns.heatmap(correlation_matrix, annot=True, cmap='coolwarm', linewidths=0.5, linecolor='black')\n",
    "plt.title('Correlation Matrix of Engagement Metrics')\n",
    "plt.show()"
   ]
  },
  {
   "cell_type": "markdown",
   "id": "d6c6b8d0-a85d-48d2-9350-a6a68a3b9226",
   "metadata": {},
   "source": [
    "The heatmap confirms strong positive correlations between views, likes, and comments."
   ]
  },
  {
   "cell_type": "code",
   "execution_count": null,
   "id": "d13512e8-560c-4ea9-a684-73e6e950b092",
   "metadata": {},
   "outputs": [],
   "source": [
    "# So, let’s collect the category names as well to analyze the categories of the trending videos:\n",
    "\n",
    "from googleapiclient.discovery import build\n",
    "\n",
    "API_KEY = 'Your own API'\n",
    "youtube = build('youtube', 'v3', developerKey=API_KEY)\n",
    "\n",
    "def get_category_mapping():\n",
    "    request = youtube.videoCategories().list(\n",
    "        part='snippet',\n",
    "        regionCode='IN'\n",
    "    )\n",
    "    response = request.execute()\n",
    "    category_mapping = {}\n",
    "    for item in response['items']:\n",
    "        category_id = int(item['id'])\n",
    "        category_name = item['snippet']['title']\n",
    "        category_mapping[category_id] = category_name\n",
    "    return category_mapping\n",
    "\n",
    "# get the category mapping\n",
    "category_mapping = get_category_mapping()\n",
    "print(category_mapping)"
   ]
  },
  {
   "cell_type": "code",
   "execution_count": null,
   "id": "2005cb13-a538-4958-a08a-b57e28c396ff",
   "metadata": {},
   "outputs": [],
   "source": [
    "# Now, here’s how we can analyze the number of trending videos by category:\n",
    "\n",
    "trending_videos['category_name'] = trending_videos['category_id'].map(category_mapping)\n",
    "\n",
    "# Bar chart for category counts\n",
    "plt.figure(figsize=(12, 8))\n",
    "sns.countplot(y=trending_videos['category_name'], order=trending_videos['category_name'].value_counts().index, palette='viridis', hue = trending_videos['category_name'], legend = False)\n",
    "plt.title('Number of Trending Videos by Category')\n",
    "plt.xlabel('Number of Videos')\n",
    "plt.ylabel('Category')\n",
    "plt.show()"
   ]
  },
  {
   "cell_type": "markdown",
   "id": "13a8d10d-23a1-43f7-8ff5-0fd532106bf7",
   "metadata": {},
   "source": [
    "The bar chart shows that the Entertainment, People & Blogs, and Music categories have the highest number of trending videos. "
   ]
  },
  {
   "cell_type": "code",
   "execution_count": null,
   "id": "9efba266-b0c1-4dde-96bb-13b655cab139",
   "metadata": {},
   "outputs": [],
   "source": [
    "# Now, let’s have a look at the average engagement metrics by category:\n",
    "\n",
    "# average engagement metrics by category\n",
    "category_engagement = trending_videos.groupby('category_name')[['view_count', 'like_count', 'comment_count']].mean().sort_values(by='view_count', ascending=False)\n",
    "\n",
    "fig, axes = plt.subplots(1, 3, figsize=(15, 8))\n",
    "\n",
    "# view count by category\n",
    "sns.barplot(y=category_engagement.index, x=category_engagement['view_count'], ax=axes[0], palette='viridis', hue=category_engagement.index, legend = False)\n",
    "axes[0].set_title('Average View Count by Category')\n",
    "axes[0].set_xlabel('Average View Count')\n",
    "axes[0].set_ylabel('Category')\n",
    "\n",
    "# like count by category\n",
    "sns.barplot(y=category_engagement.index, x=category_engagement['like_count'], ax=axes[1], palette='viridis', hue=category_engagement.index, legend = False)\n",
    "axes[1].set_title('Average Like Count by Category')\n",
    "axes[1].set_xlabel('Average Like Count')\n",
    "axes[1].set_ylabel('')\n",
    "\n",
    "# comment count by category\n",
    "sns.barplot(y=category_engagement.index, x=category_engagement['comment_count'], ax=axes[2], palette='viridis', hue=category_engagement.index, legend = False)\n",
    "axes[2].set_title('Average Comment Count by Category')\n",
    "axes[2].set_xlabel('Average Comment Count')\n",
    "axes[2].set_ylabel('')\n",
    "\n",
    "plt.tight_layout()\n",
    "plt.show()"
   ]
  },
  {
   "cell_type": "markdown",
   "id": "e76f885f-889d-4c2d-8fd3-8e9757386380",
   "metadata": {},
   "source": [
    "Music and Film & Animation categories have the highest average view counts, likes, and comments. Education also shows high \n",
    "engagement, especially in view counts and like counts."
   ]
  },
  {
   "cell_type": "code",
   "execution_count": null,
   "id": "b5bc5ca4-9b32-41f6-8483-4cedec7bcbb3",
   "metadata": {},
   "outputs": [],
   "source": [
    "# Now, let’s analyze the content and duration of the videos. \n",
    "# But first, we need to convert the duration from ISO 8601 format to seconds:\n",
    "\n",
    "!pip install isodate\n",
    "import isodate\n",
    "\n",
    "# convert ISO 8601 duration to seconds\n",
    "trending_videos['duration_seconds'] = trending_videos['duration'].apply(lambda x: isodate.parse_duration(x).total_seconds())\n",
    "\n",
    "trending_videos['duration_range'] = pd.cut(trending_videos['duration_seconds'], bins=[0, 300, 600, 1200, 3600, 7200], \n",
    "                                           labels=['0-5 min', '5-10 min', '10-20 min', '20-60 min', '60-120 min'])"
   ]
  },
  {
   "cell_type": "markdown",
   "id": "2da692ef-aa28-4d43-8f32-24b504c6f147",
   "metadata": {},
   "source": [
    "In the above code, we are using the isodate library to convert the duration of each video from the ISO 8601 format to \n",
    "seconds, which allows for numerical analysis. After converting the durations, we are categorizing the videos into different \n",
    "duration ranges (0-5 minutes, 5-10 minutes, 10-20 minutes, 20-60 minutes, and 60-120 minutes) by creating a new column \n",
    "called duration_range. This categorization enables us to analyze and compare the engagement metrics of videos within \n",
    "specific length intervals, providing insights into how video length influences viewer behaviour and video performance."
   ]
  },
  {
   "cell_type": "code",
   "execution_count": null,
   "id": "c95de7a9-a986-4351-896d-6af160eec7a0",
   "metadata": {},
   "outputs": [],
   "source": [
    "# Now, let’s analyze the content and the duration of videos:\n",
    "\n",
    "# scatter plot for video length vs view count\n",
    "plt.figure(figsize=(10, 6))\n",
    "sns.scatterplot(x='duration_seconds', y='view_count', data=trending_videos, alpha=0.6, color='purple')\n",
    "plt.title('Video Length vs View Count')\n",
    "plt.xlabel('Video Length (seconds)')\n",
    "plt.ylabel('View Count')\n",
    "plt.show()\n",
    "\n",
    "# bar chart for engagement metrics by duration range\n",
    "length_engagement = trending_videos.groupby('duration_range')[['view_count', 'like_count', 'comment_count']].mean()\n",
    "\n",
    "fig, axes = plt.subplots(1, 3, figsize=(18, 8))\n",
    "\n",
    "# view count by duration range\n",
    "sns.barplot(y=length_engagement.index, x=length_engagement['view_count'], ax=axes[0], palette='magma',hue =length_engagement.index, legend = False )\n",
    "axes[0].set_title('Average View Count by Duration Range')\n",
    "axes[0].set_xlabel('Average View Count')\n",
    "axes[0].set_ylabel('Duration Range')\n",
    "\n",
    "# like count by duration range\n",
    "sns.barplot(y=length_engagement.index, x=length_engagement['like_count'], ax=axes[1], palette='magma',hue =length_engagement.index, legend = False)\n",
    "axes[1].set_title('Average Like Count by Duration Range')\n",
    "axes[1].set_xlabel('Average Like Count')\n",
    "axes[1].set_ylabel('')\n",
    "\n",
    "# comment count by duration range\n",
    "sns.barplot(y=length_engagement.index, x=length_engagement['comment_count'], ax=axes[2], palette='magma',hue =length_engagement.index, legend = False)\n",
    "axes[2].set_title('Average Comment Count by Duration Range')\n",
    "axes[2].set_xlabel('Average Comment Count')\n",
    "axes[2].set_ylabel('')\n",
    "\n",
    "plt.tight_layout()\n",
    "plt.show()"
   ]
  },
  {
   "cell_type": "markdown",
   "id": "622cc047-7f5f-460d-a2f4-01c632d1efe2",
   "metadata": {},
   "source": [
    "The scatter plot shows a slight negative correlation between video length and view count, indicating shorter videos tend \n",
    "to have higher view counts. Videos in the 0-5 minute range have the highest average view counts, likes, and comments. \n"
   ]
  },
  {
   "cell_type": "code",
   "execution_count": null,
   "id": "0f66820c-37ce-44b1-946a-63b23ae8c827",
   "metadata": {},
   "outputs": [],
   "source": [
    "# Now, let’s analyze the relationship between views and number of tags used in the video:\n",
    "\n",
    "# calculate the number of tags for each video\n",
    "trending_videos['tag_count'] = trending_videos['tags'].apply(len)\n",
    "\n",
    "# scatter plot for number of tags vs view count\n",
    "plt.figure(figsize=(10, 6))\n",
    "sns.scatterplot(x='tag_count', y='view_count', data=trending_videos, alpha=0.6, color='orange')\n",
    "plt.title('Number of Tags vs View Count')\n",
    "plt.xlabel('Number of Tags')\n",
    "plt.ylabel('View Count')\n",
    "plt.show()"
   ]
  },
  {
   "cell_type": "markdown",
   "id": "8f9247b0-42c7-433e-b84c-b0ca21af281a",
   "metadata": {},
   "source": [
    "The scatter plot shows a very weak relationship between the number of tags and view count, suggesting that the number of \n",
    "tags has minimal impact on a video’s view count."
   ]
  },
  {
   "cell_type": "code",
   "execution_count": null,
   "id": "f6f1d4db-ca73-4753-a350-9e4b1326167c",
   "metadata": {},
   "outputs": [],
   "source": [
    "# Now, let’s see if there’s an impact of the time a video is posted on its views:\n",
    "\n",
    "# extract hour of publication\n",
    "trending_videos['publish_hour'] = trending_videos['published_at'].dt.hour\n",
    "\n",
    "# bar chart for publish hour distribution\n",
    "plt.figure(figsize=(12, 6))\n",
    "sns.countplot(x='publish_hour', data=trending_videos, palette='coolwarm',hue =trending_videos['publish_hour'], legend = False)\n",
    "plt.title('Distribution of Videos by Publish Hour')\n",
    "plt.xlabel('Publish Hour')\n",
    "plt.ylabel('Number of Videos')\n",
    "plt.show()\n",
    "\n",
    "# scatter plot for publish hour vs view count\n",
    "plt.figure(figsize=(10, 6))\n",
    "sns.scatterplot(x='publish_hour', y='view_count', data=trending_videos, alpha=0.6, color='teal')\n",
    "plt.title('Publish Hour vs View Count')\n",
    "plt.xlabel('Publish Hour')\n",
    "plt.ylabel('View Count')\n",
    "plt.show()"
   ]
  },
  {
   "cell_type": "markdown",
   "id": "6ec3ab38-5272-4d5e-b823-95adba7b11d7",
   "metadata": {},
   "source": [
    "The distribution shows that most videos are published between 14:00 and 20:00 hours (2 PM – 8 PM), indicating this may be \n",
    "an optimal time for uploading videos. There is a very weak negative relationship between publish hour and view count, \n",
    "suggesting that the hour of publication has minimal impact on engagement metrics.\n",
    "\n",
    "**Conclusion**\n",
    "\r\n",
    "So, here’s my conclusion on what makes a video trend on YouTube\n",
    "->Encourage viewers to like and comment on videos to boost engagement metrics.\r",
    "->\n",
    "Aim to create shorter videos (under 5 minutes) for higher engagement, especially for categories like Music and Entertainment.->\r\n",
    "Schedule video uploads around peak times (2 PM – 8 PM) to maximize initial views and engagement.:"
   ]
  },
  {
   "cell_type": "code",
   "execution_count": null,
   "id": "f2dde2f3-fe2c-4b55-88be-530f06363f25",
   "metadata": {},
   "outputs": [],
   "source": []
  }
 ],
 "metadata": {
  "kernelspec": {
   "display_name": "Python 3 (ipykernel)",
   "language": "python",
   "name": "python3"
  },
  "language_info": {
   "codemirror_mode": {
    "name": "ipython",
    "version": 3
   },
   "file_extension": ".py",
   "mimetype": "text/x-python",
   "name": "python",
   "nbconvert_exporter": "python",
   "pygments_lexer": "ipython3",
   "version": "3.12.4"
  }
 },
 "nbformat": 4,
 "nbformat_minor": 5
}
